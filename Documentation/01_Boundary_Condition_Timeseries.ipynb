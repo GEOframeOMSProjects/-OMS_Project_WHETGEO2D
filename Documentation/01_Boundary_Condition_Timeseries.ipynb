{
 "cells": [
  {
   "cell_type": "markdown",
   "metadata": {},
   "source": [
    "# How to specify boundary conditions for WHETGEO-2D \n",
    "## The case of the Richardson-Richards component\n",
    "----\n",
    "\n",
    "**Documentation Author:** [Niccolò Tubini](https://www.researchgate.net/profile/Niccolo_Tubini2)\n",
    "\n",
    "**To whom address questions:** \n",
    " - [Niccolò Tubini](https://www.researchgate.net/profile/Niccolo_Tubini2) \n",
    " - [GEOframe Users Group](https://groups.google.com/forum/#!forum/geoframe-components-users)\n",
    " - [GEOframe Developers Mailing List](https://groups.google.com/forum/#!forum/geoframe-components-developers)\n",
    " \n",
    "**Version:** 0.98\n",
    "\n",
    "**Keywords:** OMS3, OMS csv data file, WHETGEO-2D, Richardson-Richards equation\n",
    "\n",
    "**License:** [GPL3 v3](https://www.gnu.org/licenses/gpl-3.0.en.html)\n",
    "\n",
    "## Table of Contents\n",
    "\n",
    "* [Abstract](#Abstract)\n"
   ]
  },
  {
   "cell_type": "markdown",
   "metadata": {},
   "source": [
    "# Abstract\n",
    "\n",
    "When solving a partial differential equation (PDE) we need to prescribe what happens at the boundaries of the domain, the so-called boundary conditions. From a physical point of view, boundary conditions control the system evolution over time. The initial condition describe the initial state of the sistem and it is a function of the space only, boundary conditions controls the time evolution of the system and they are a function of space (the boundaries) and time. Considering the case of the Richardson-Richards equation the boundary condition can be:\n",
    "- Dirichlet boundary condition, specifies the value of the unknown, $\\psi$;\n",
    "- Neumann boundary condition, specifies the value Darcy-Buckingham flux;\n",
    "- Free drainage boundary condition, can be seen as a special case of the Neumann boundary condition in the sense that the flux through the boundary is controlled by the gravity. This boundary condition assumes that the gradient of water suction at the boundary is 0.\n",
    "\n",
    "For each boundary of the domain we do not need to specify only the type of the boundary condition but also its values, i.e. a time series. In order to specify boundary conditions, we assign while creating the grid a label to each boundary of the domain. This label is an integer number. Numbers:\n",
    "- from 10 to 19 indicates a Neumann boundary condition;\n",
    "- from 20 to 29 indicates a Dirichlet boundary condition;\n",
    "- 30 free drainage boundary conditions.\n",
    "\n",
    "These numbers are then reported in the input time series csv as header of the column. By matching the label of the boundary edge and the header in the time series .csv file the model knows which type of boundary condtion to use and the prescribed value. Please note that in case of free drainage boundary condition there is no need to specify a time series.\n",
    "\n",
    "Internal boundaries, those used to define soil layer, or more in general subdomains, are labelled with 1.\n",
    "\n",
    "Figure (1) shows a simple example on how to label the boundary of the domain, and in Fig. (2) is reported a possible timeseries.\n",
    "\n",
    "About how to label boundaries within Gmsh please refer to the tutorial `Gmsh-ex03.pptx`.\n",
    "\n",
    "<figure>\n",
    "    <img src=\"Figures/Boundary_condition_schema.png\" width=\"800\" height=\"800/1.618\">\n",
    "    <figcaption>Fig.1 - On the top boundary we specify a water flux representing the rainfall intensity. Mathematically this corresponds to a Neumann boundary condition and we label this boundary with 15. On the two vertical boundaries we specify a uniform value of the water suction (although it has no physical meaning). This means to assign a Dirichlet boundary condition with a value of $-1$ [m] on the left boundary and $-3$ [m] on the right boundary. The vertical left boundary is labelled with 20, the right one with 21. At the bottom, we assume a free drainage boundary condition and therefore we label it with 30  </figcaption>\n",
    "<figure>\n",
    "    \n",
    "\n",
    "<figure>\n",
    "    <img src=\"Figures/Boundary_condition_time_series.png\" width=\"800\" height=\"800/1.618\">\n",
    "    <figcaption>Fig.2 - Example of a time series for the boundary condition schema reported in Fig. (1). Please not that for the free drainage boundary condition we do no need to provide any value, there is no column with header 30. </figcaption>\n",
    "<figure>\n",
    "    \n",
    "    \n",
    "    \n",
    "\n"
   ]
  }
 ],
 "metadata": {
  "kernelspec": {
   "display_name": "Python 3",
   "language": "python",
   "name": "python3"
  },
  "language_info": {
   "codemirror_mode": {
    "name": "ipython",
    "version": 3
   },
   "file_extension": ".py",
   "mimetype": "text/x-python",
   "name": "python",
   "nbconvert_exporter": "python",
   "pygments_lexer": "ipython3",
   "version": "3.7.9"
  },
  "toc-autonumbering": true
 },
 "nbformat": 4,
 "nbformat_minor": 4
}
