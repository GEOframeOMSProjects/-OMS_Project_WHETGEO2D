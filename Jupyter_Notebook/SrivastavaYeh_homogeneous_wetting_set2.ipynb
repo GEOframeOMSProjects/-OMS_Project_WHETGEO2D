{
 "cells": [
  {
   "cell_type": "markdown",
   "metadata": {},
   "source": [
    "# WHETGEO-2D\n",
    "\n",
    "## Srivastava and Yeh 1991 - Homogeneous soil wetting case.\n",
    "\n",
    "    -Authors: Niccolò Tubini, Riccardo Rigon\n",
    "    - Licence: this work is licensed under a Creative Commons Attribution-NonCommercial 4.0 International License\n",
    "-----\n",
    "\n",
    "**This notebook is freely inspired to the Notebooks presented in Clark et al. (2021)**\n",
    "\n",
    "## Table of Contents\n",
    "\n",
    "* [Expectations](#Expectations)\n",
    "* [Meta data](#Meta-data)\n",
    "* [Reference](#Reference)\n",
    "* [Computational grid](#Computational-grid)\n",
    "* [Visualize the output](#Visualize-the-output)\n",
    "    * [Saturation degree](#Saturation-degree)\n",
    "\n",
    "\n",
    "\n",
    "\n",
    "## Expectations\n",
    "The simulation should reproduce the analytical solution presented in Srivastava and Yeh (1991) for homogeneous soil under wetting condition. \n",
    "\n",
    "Soil parameters are:\n",
    "- $\\alpha = 0.01$,\n",
    "- $\\theta_s=0.45$, \n",
    "- $\\theta_r=0.2$\n",
    "\n",
    "<figure>\n",
    "    <center>\n",
    "    <img src=\"Figures/Srivastava_Yeh_1991_homogeneous_wetting_set_2.PNG\" width=\"400\" height=\"400/1.618\">\n",
    "    <figcaption>Figure (2) in Srivastava and Yeh (1991). </figcaption>\n",
    "    </center>\n",
    "</figure>\n",
    "\n",
    "## Meta data\n",
    "\n",
    "| Data  | Value  |\n",
    "|:---|:---|\n",
    "| Model name| WHETGEO-2D |\n",
    "| Model version  |  v0.9-beta |\n",
    "| Model reference | Tubini and Rigon (2022) |\n",
    "| Grid input file | `data/mesh/Srivastatva_Yeh_1991/Srivastava_Yeh_1991_homogeneous.csv|\n",
    "| Boundary condition file | `data/Timeseries/Srivastatva_Yeh_1991/Srivastava_Yeh_1991_wetting.csv` |\n",
    "| Initial condition file | `data/mesh/Srivastatva_Yeh_1991/Srivastava_Yeh_1991_psi_0_homogeneous_wetting_set2.csv` |\n",
    "| .sim file | `simulation/WHETGEO2D_Srivastava_Yeh_1991_homogeneous_wetting_set_2.sim` |\n",
    "| Model runs by | N. Tubini|\n",
    "| Notebook code by | N. Tubini | \n",
    "\n",
    "## Reference\n",
    "\n",
    "- Clark, M.P., Zolfaghari, R., Green, K.R., Trim, S.J., Knoben, W.J., Bennett, A.R., Nijssen, B., Ireson, A.M., & Spiteri, R.J. (2021). The numerical implementation of land models: Problem formulation and laugh tests. Journal of Hydrometeorology.\n",
    "\n",
    "- Srivastava, R., & Yeh, T. C. J. (1991). Analytical solutions for one‐dimensional, transient infiltration toward the water table in homogeneous and layered soils. Water Resources Research, 27(5), 753-762.\n",
    "\n",
    "- Tubini, N.: Theoretical and numerical tools for studying the Critical Zone from plot to catchments, PhD thesis, University of Trento, 2021."
   ]
  },
  {
   "cell_type": "code",
   "execution_count": 8,
   "metadata": {},
   "outputs": [
    {
     "name": "stdout",
     "output_type": "stream",
     "text": [
      "The autoreload extension is already loaded. To reload it, use:\n",
      "  %reload_ext autoreload\n"
     ]
    }
   ],
   "source": [
    "%load_ext autoreload\n",
    "%autoreload 2\n",
    "\n",
    "import os\n",
    "import pandas as pd\n",
    "import numpy as np\n",
    "import matplotlib\n",
    "import matplotlib.pyplot as plt\n",
    "import matplotlib.dates as mdates\n",
    "import matplotlib.colors as cl # to define new color map\n",
    "\n",
    "\n",
    "import whetgeo2d_mesh \n",
    "\n",
    "from matplotlib import rc\n",
    "%matplotlib inline\n",
    "import matplotlib.style as style \n",
    "import matplotlib.tri as tri\n",
    "import math\n",
    "import xarray as xr\n",
    "\n",
    "\n",
    "from srivastava_yeh_1991_analytical_solution import *\n",
    "\n",
    "import warnings\n",
    "warnings.filterwarnings('ignore')\n",
    "\n",
    "style.available\n",
    "style.use('seaborn-whitegrid')\n",
    "\n",
    "nice_fonts = {\n",
    "        \"legend.frameon\": True,\n",
    "        \"legend.fancybox\": True,\n",
    "        \"legend.facecolor\": \"white\",\n",
    "        \"axes.edgecolor\": \"0.8\",\n",
    "        \"axes.linewidth\": 0.6,\n",
    "        \"grid.linewidth\":0.4,\n",
    "        # Use LaTeX to write all text\n",
    "        \"text.usetex\": True,\n",
    "        \"font.family\": \"serif\",\n",
    "        # Use 10pt font in plots, to match 10pt font in document\n",
    "        \"axes.labelsize\": 16,\n",
    "        \"font.size\": 16,\n",
    "        # Make the legend/label fonts a little smaller\n",
    "        \"legend.fontsize\": 14,\n",
    "        \"xtick.labelsize\": 14,\n",
    "        \"ytick.labelsize\": 14,\n",
    "}\n",
    "\n",
    "plt.rcParams.update(nice_fonts)\n",
    "\n",
    "\n",
    "linewidth_n = 0.8\n",
    "linewidth_a = 0.9\n",
    "color_map = ['#a6cee3', '#1f78b4', '#b2df8a', '#33a02c', '#fb9a99', '#e31a1c', '#fdbf6f', '#ff7f00', '#cab2d6', '#6a3d9a', '#ffff99', '#b15928']\n",
    "\n",
    "# my_cmap = matplotlib.colors.LinearSegmentedColormap.from_list(\"\",['#f1eef6', '#bdc9e1', '#74a9cf', '#2b8cbe', '#045a8d'])\n",
    "\n"
   ]
  },
  {
   "cell_type": "code",
   "execution_count": 9,
   "metadata": {},
   "outputs": [],
   "source": [
    "project_path = os.path.dirname(os.getcwd())"
   ]
  },
  {
   "cell_type": "markdown",
   "metadata": {},
   "source": [
    "## Discretize the domain\n",
    "\n",
    "- **x_left**: x coordinate of the left border;\n",
    "- **x_right**: x coordinate of the right border;\n",
    "- **z_top**: z coordinate of the top boundary defined with respect to the bottom\n",
    "- **IMAX**: number of cells in the x-direction\n",
    "- **KMAX**: number of cells in the z-direction\n",
    "- **regions_xlim**: x coordinate limits of subdomains\n",
    "- **regions_zlim**: z coordinate limits of subdomains\n",
    "- **labels**: labels of subdomains\n",
    "- **bottom_bc_label**: bottom boundary condition label\n",
    "- **right_bc_label**: right boundary condition label\n",
    "- **left_bc_label**: left boundary condition label\n",
    "- **top_bc_label**: top boundary condition label\n",
    "- **file_name**: file name containing the grid\n",
    "\n",
    "More details can be found in the documentation of the function `whetgeo2D_mesh.create_structured_mesh`."
   ]
  },
  {
   "cell_type": "code",
   "execution_count": 10,
   "metadata": {},
   "outputs": [],
   "source": [
    "x_left = 0\n",
    "x_right = 0.5\n",
    "\n",
    "z_top = 1 \n",
    "\n",
    "IMAX = 5\n",
    "KMAX = 1000\n",
    "\n",
    "regions_xlim = [ [0,0.5]]\n",
    "regions_zlim = [ [0,1]]\n",
    "\n",
    "labels = [0]\n",
    "\n",
    "bottom_bc_label = 20\n",
    "right_bc_label = 10\n",
    "left_bc_label = 10\n",
    "top_bc_label = 11\n",
    "\n",
    "file_name = project_path+'/data/mesh/Srivastatva_Yeh_1991/Srivastava_Yeh_1991_homogeneous.csv'\n",
    "whetgeo2d_mesh.create_structured_mesh(x_left, x_right, z_top, IMAX, KMAX, regions_xlim, regions_zlim, labels, bottom_bc_label, right_bc_label, left_bc_label, top_bc_label, file_name)"
   ]
  },
  {
   "cell_type": "markdown",
   "metadata": {},
   "source": [
    "## Initial condition\n",
    "\n",
    "The initial condition is determined by imposing as lower boundary condition $\\psi = 0$ [m] and a constant water flux at the soil surface $q_A = 2.78  10^{-7}$ [ms$^{-1}$]."
   ]
  },
  {
   "cell_type": "code",
   "execution_count": 11,
   "metadata": {},
   "outputs": [],
   "source": [
    "L = 100 \n",
    "Ks = 1\n",
    "alpha = 0.01\n",
    "theta_s = 0.45\n",
    "theta_r = 0.2\n",
    "qA = 0.1\n",
    "qB = 0.9\n",
    "psi_bottom = 0\n",
    "[quad, nodes, x_c, z_c, ID] = whetgeo2d_mesh.reconstruct_structured_csv(file_name, IMAX, KMAX)\n",
    "file_name_ic = project_path+'/data/mesh/Srivastatva_Yeh_1991/Srivastava_Yeh_1991_psi_0_homogeneous_wetting_set2.csv'\n",
    "initial_condition_homogeneous_soil(Ks, alpha, theta_s, theta_r, qA, psi_bottom, IMAX, KMAX, z_c, file_name_ic)\n"
   ]
  },
  {
   "cell_type": "markdown",
   "metadata": {},
   "source": [
    "# Output"
   ]
  },
  {
   "cell_type": "code",
   "execution_count": 18,
   "metadata": {},
   "outputs": [],
   "source": [
    "ds = xr.open_dataset(project_path+\"/output/Srivastava_Yeh_1991_homogeneous_wetting_set2_0000.nc\")\n"
   ]
  },
  {
   "cell_type": "markdown",
   "metadata": {},
   "source": [
    "## Compute the analytical solution"
   ]
  },
  {
   "cell_type": "code",
   "execution_count": 19,
   "metadata": {},
   "outputs": [],
   "source": [
    "times = np.array([1,3,5,8,10,15,20,30,100]) # hours\n",
    "z = z_c.reshape((KMAX, IMAX))\n",
    "[psi_00, theta_0, psi, theta, q] = solution_homogeneous_soil(L, z[:,0]*100, Ks, alpha, theta_s, theta_r, qA, qB, psi_bottom, times)"
   ]
  },
  {
   "cell_type": "code",
   "execution_count": 20,
   "metadata": {},
   "outputs": [
    {
     "data": {
      "image/png": "[encoded data removed]",
      "text/plain": [
       "<Figure size 355.995x576 with 1 Axes>"
      ]
     },
     "metadata": {},
     "output_type": "display_data"
    }
   ],
   "source": [
    "fig, ax = plt.subplots(1, 1, figsize=(8/1.618, 8)) \n",
    "plt.plot(np.nan,np.nan, linewidth=linewidth_n, color='0.1', label='Numerical sol.')\n",
    "plt.plot(np.nan,np.nan, linewidth=linewidth_n, linestyle='--', color='0.2', label='Analytical sol.')\n",
    "\n",
    "plt.plot(psi_00*1e-2, z, linewidth=linewidth_a, color='0.3')\n",
    "\n",
    "plt.plot(ds.psi.values[59,:].reshape((KMAX,IMAX))[:,3], z, linewidth=linewidth_n, color='0.2')\n",
    "plt.plot(psi[1]/100, z,   linestyle='--', linewidth=linewidth_a, color=color_map[0])\n",
    "\n",
    "plt.plot(ds.psi.values[179,:].reshape((KMAX,IMAX))[:,3], z, linewidth=linewidth_n, color='0.2')\n",
    "plt.plot(psi[3]/100, z,   linestyle='--', linewidth=linewidth_a, color=color_map[1])\n",
    "\n",
    "plt.plot(ds.psi.values[5*60-1,:].reshape((KMAX,IMAX))[:,3], z, linewidth=linewidth_n, color='0.2')\n",
    "plt.plot(psi[5]/100, z,   linestyle='--', linewidth=linewidth_a, color=color_map[2])\n",
    "\n",
    "plt.plot(ds.psi.values[8*60-1,:].reshape((KMAX,IMAX))[:,3], z, linewidth=linewidth_n, color='0.2')\n",
    "plt.plot(psi[8]/100, z,   linestyle='--', linewidth=linewidth_a, color=color_map[3])\n",
    "\n",
    "plt.plot(ds.psi.values[10*60-1,:].reshape((KMAX,IMAX))[:,3], z, linewidth=linewidth_n, color='0.2')\n",
    "plt.plot(psi[10]/100, z,   linestyle='--', linewidth=linewidth_a, color=color_map[4])\n",
    "\n",
    "plt.plot(ds.psi.values[15*60-1,:].reshape((KMAX,IMAX))[:,3], z, linewidth=linewidth_n, color='0.2')\n",
    "plt.plot(psi[15]/100, z,   linestyle='--', linewidth=linewidth_a, color=color_map[5])\n",
    "\n",
    "plt.plot(ds.psi.values[20*60-1,:].reshape((KMAX,IMAX))[:,3], z, linewidth=linewidth_n, color='0.2')\n",
    "plt.plot(psi[20]/100, z,   linestyle='--', linewidth=linewidth_a, color=color_map[6])\n",
    "\n",
    "plt.plot(ds.psi.values[30*60-1,:].reshape((KMAX,IMAX))[:,3], z, linewidth=linewidth_n, color='0.2')\n",
    "plt.plot(psi[30]/100, z,   linestyle='--', linewidth=linewidth_a, color=color_map[7])\n",
    "\n",
    "plt.plot(ds.psi.values[100*60-1,:].reshape((KMAX,IMAX))[:,3], z, linewidth=linewidth_n, color='0.2')\n",
    "plt.plot(psi[100]/100, z,   linestyle='--', linewidth=linewidth_a, color=color_map[8])\n",
    "\n",
    "plt.annotate('t=0 h', (-0.24,1.01), xycoords='data', fontsize=12)\n",
    "plt.annotate('1', (-0.07,1.01), xycoords='data', fontsize=12)\n",
    "plt.annotate('3', (-0.04,1.01), xycoords='data', fontsize=12)\n",
    "plt.annotate('5', (-0.053,0.93), xycoords='data', fontsize=12)\n",
    "plt.annotate('8', (-0.056,0.85), xycoords='data', fontsize=12)\n",
    "plt.annotate('10', (-0.056,0.75), xycoords='data', fontsize=12)\n",
    "plt.annotate('15', (-0.053,0.63), xycoords='data', fontsize=12)\n",
    "plt.annotate('20', (-0.05,0.5), xycoords='data', fontsize=12)\n",
    "plt.annotate('30', (-0.035,0.35), xycoords='data', fontsize=12)\n",
    "plt.annotate('100', (-0.025,0.15), xycoords='data', fontsize=12)\n",
    "\n",
    "plt.xlabel('$\\psi$ [m]')\n",
    "plt.ylabel('$z$ [m]')\n",
    "plt.show()\n",
    "# fig.savefig('SrivastaveYeh_homogeneous_drainage_set1.pdf', dpi=300, bbox_inches='tight')"
   ]
  },
  {
   "cell_type": "code",
   "execution_count": null,
   "metadata": {},
   "outputs": [],
   "source": []
  }
 ],
 "metadata": {
  "kernelspec": {
   "display_name": "Python 3",
   "language": "python",
   "name": "python3"
  },
  "language_info": {
   "codemirror_mode": {
    "name": "ipython",
    "version": 3
   },
   "file_extension": ".py",
   "mimetype": "text/x-python",
   "name": "python",
   "nbconvert_exporter": "python",
   "pygments_lexer": "ipython3",
   "version": "3.7.9"
  }
 },
 "nbformat": 4,
 "nbformat_minor": 4
}
